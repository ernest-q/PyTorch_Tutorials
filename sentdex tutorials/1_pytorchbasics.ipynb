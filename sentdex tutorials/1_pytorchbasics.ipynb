{
 "cells": [
  {
   "cell_type": "code",
   "execution_count": 1,
   "metadata": {},
   "outputs": [
    {
     "output_type": "stream",
     "name": "stdout",
     "text": "tensor([[0.1083, 0.7356, 0.9581],\n        [0.9587, 0.8911, 0.6641],\n        [0.8026, 0.3113, 0.8192],\n        [0.3785, 0.9565, 0.7445],\n        [0.5171, 0.4369, 0.8097]])\n"
    }
   ],
   "source": [
    "# Testing to see that PyTorch was installed correctly.\n",
    "from __future__ import print_function\n",
    "import torch\n",
    "x = torch.rand(5, 3)\n",
    "print(x)\n"
   ]
  },
  {
   "cell_type": "code",
   "execution_count": 12,
   "metadata": {},
   "outputs": [
    {
     "output_type": "stream",
     "name": "stdout",
     "text": "tensor([5., 3.])\ntensor([2., 1.])\ntensor([10.,  3.])\n"
    }
   ],
   "source": [
    "# Create two tensors of size 5x3 and 2x1 and then multiply them together.\n",
    "y = torch.Tensor([5,3])\n",
    "print(y)\n",
    "z = torch.Tensor([2,1])\n",
    "print(z)\n",
    "print(z*y)"
   ]
  },
  {
   "cell_type": "code",
   "execution_count": 6,
   "metadata": {},
   "outputs": [
    {
     "output_type": "stream",
     "name": "stdout",
     "text": "tensor([[0., 0., 0., 0., 0.],\n        [0., 0., 0., 0., 0.]])\n"
    }
   ],
   "source": [
    "# Creates a 2x5 tensor that is initialized with zero in every index.\n",
    "x = torch.zeros([2,5])\n",
    "print(x)"
   ]
  },
  {
   "cell_type": "code",
   "execution_count": 7,
   "metadata": {},
   "outputs": [
    {
     "output_type": "execute_result",
     "data": {
      "text/plain": "torch.Size([2, 5])"
     },
     "metadata": {},
     "execution_count": 7
    }
   ],
   "source": [
    "# Outputs the dimensions of the tensor object that the method is being called on.\n",
    "x.shape"
   ]
  },
  {
   "cell_type": "code",
   "execution_count": 8,
   "metadata": {},
   "outputs": [],
   "source": [
    "# Creates a tensor of size 2x5 and initializes every index with a random value.\n",
    "y = torch.rand([2,5])"
   ]
  },
  {
   "cell_type": "code",
   "execution_count": 9,
   "metadata": {},
   "outputs": [
    {
     "output_type": "execute_result",
     "data": {
      "text/plain": "tensor([[0.7942, 0.4554, 0.8751, 0.8412, 0.3013],\n        [0.8086, 0.2383, 0.5672, 0.3271, 0.7639]])"
     },
     "metadata": {},
     "execution_count": 9
    }
   ],
   "source": [
    "y"
   ]
  },
  {
   "cell_type": "code",
   "execution_count": 10,
   "metadata": {},
   "outputs": [
    {
     "output_type": "execute_result",
     "data": {
      "text/plain": "tensor([[0.7942, 0.4554, 0.8751, 0.8412, 0.3013, 0.8086, 0.2383, 0.5672, 0.3271,\n         0.7639]])"
     },
     "metadata": {},
     "execution_count": 10
    }
   ],
   "source": [
    "# The view method shows what the tensor y would look like when reshaped to be a 1x10, doesnt actually modify the tensor y. You would need to instantiate a variable with this value to do so.\n",
    "y.view([1,10])"
   ]
  },
  {
   "cell_type": "code",
   "execution_count": 11,
   "metadata": {},
   "outputs": [
    {
     "output_type": "execute_result",
     "data": {
      "text/plain": "tensor([[0.7942, 0.4554, 0.8751, 0.8412, 0.3013],\n        [0.8086, 0.2383, 0.5672, 0.3271, 0.7639]])"
     },
     "metadata": {},
     "execution_count": 11
    }
   ],
   "source": [
    "# Shows that calling the view method on the y tensorflow didn't reshape the original tensorflow object y.\n",
    "y"
   ]
  },
  {
   "cell_type": "code",
   "execution_count": null,
   "metadata": {},
   "outputs": [],
   "source": []
  }
 ],
 "metadata": {
  "language_info": {
   "codemirror_mode": {
    "name": "ipython",
    "version": 3
   },
   "file_extension": ".py",
   "mimetype": "text/x-python",
   "name": "python",
   "nbconvert_exporter": "python",
   "pygments_lexer": "ipython3",
   "version": "3.7.5-final"
  },
  "orig_nbformat": 2,
  "kernelspec": {
   "name": "python3",
   "display_name": "Python 3"
  }
 },
 "nbformat": 4,
 "nbformat_minor": 2
}